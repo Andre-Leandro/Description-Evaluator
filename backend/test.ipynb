{
 "cells": [
  {
   "cell_type": "code",
   "execution_count": 1,
   "id": "5d0ebd9b",
   "metadata": {},
   "outputs": [],
   "source": [
    "import pandas as pd"
   ]
  },
  {
   "cell_type": "code",
   "execution_count": 34,
   "id": "a2a3835e",
   "metadata": {},
   "outputs": [
    {
     "data": {
      "text/html": [
       "<div>\n",
       "<style scoped>\n",
       "    .dataframe tbody tr th:only-of-type {\n",
       "        vertical-align: middle;\n",
       "    }\n",
       "\n",
       "    .dataframe tbody tr th {\n",
       "        vertical-align: top;\n",
       "    }\n",
       "\n",
       "    .dataframe thead th {\n",
       "        text-align: right;\n",
       "    }\n",
       "</style>\n",
       "<table border=\"1\" class=\"dataframe\">\n",
       "  <thead>\n",
       "    <tr style=\"text-align: right;\">\n",
       "      <th></th>\n",
       "      <th>descripcion_original</th>\n",
       "      <th>descripcion_generada</th>\n",
       "      <th>id</th>\n",
       "      <th>nombre</th>\n",
       "    </tr>\n",
       "  </thead>\n",
       "  <tbody>\n",
       "    <tr>\n",
       "      <th>0</th>\n",
       "      <td>Descubre la emoción de lo inesperado con el Tu...</td>\n",
       "      <td>Sumérgete en la magia del descubrimiento con e...</td>\n",
       "      <td>4188155</td>\n",
       "      <td>Tubo con 2 Figuras Sorpresa</td>\n",
       "    </tr>\n",
       "  </tbody>\n",
       "</table>\n",
       "</div>"
      ],
      "text/plain": [
       "                                descripcion_original  \\\n",
       "0  Descubre la emoción de lo inesperado con el Tu...   \n",
       "\n",
       "                                descripcion_generada       id  \\\n",
       "0  Sumérgete en la magia del descubrimiento con e...  4188155   \n",
       "\n",
       "                        nombre  \n",
       "0  Tubo con 2 Figuras Sorpresa  "
      ]
     },
     "execution_count": 34,
     "metadata": {},
     "output_type": "execute_result"
    }
   ],
   "source": [
    "df = pd.read_csv(\"description-parragraph-us.amazon.nova-micro-v1_0.csv\")\n",
    "df.head(1)"
   ]
  },
  {
   "cell_type": "code",
   "execution_count": 35,
   "id": "e8a29859",
   "metadata": {},
   "outputs": [],
   "source": [
    "out = pd.DataFrame({})"
   ]
  },
  {
   "cell_type": "code",
   "execution_count": 37,
   "id": "f3c3d54c",
   "metadata": {},
   "outputs": [],
   "source": [
    "out[\"generated_description\"] = df[\"descripcion_generada\"]\n",
    "out[\"product\"] = df[\"id\"]\n",
    "out[\"model\"] = 1"
   ]
  },
  {
   "cell_type": "code",
   "execution_count": 38,
   "id": "ac61dde9",
   "metadata": {},
   "outputs": [
    {
     "data": {
      "text/html": [
       "<div>\n",
       "<style scoped>\n",
       "    .dataframe tbody tr th:only-of-type {\n",
       "        vertical-align: middle;\n",
       "    }\n",
       "\n",
       "    .dataframe tbody tr th {\n",
       "        vertical-align: top;\n",
       "    }\n",
       "\n",
       "    .dataframe thead th {\n",
       "        text-align: right;\n",
       "    }\n",
       "</style>\n",
       "<table border=\"1\" class=\"dataframe\">\n",
       "  <thead>\n",
       "    <tr style=\"text-align: right;\">\n",
       "      <th></th>\n",
       "      <th>generated_description</th>\n",
       "      <th>product</th>\n",
       "      <th>model</th>\n",
       "    </tr>\n",
       "  </thead>\n",
       "  <tbody>\n",
       "    <tr>\n",
       "      <th>0</th>\n",
       "      <td>Sumérgete en la magia del descubrimiento con e...</td>\n",
       "      <td>4188155</td>\n",
       "      <td>1</td>\n",
       "    </tr>\n",
       "    <tr>\n",
       "      <th>1</th>\n",
       "      <td>Sumérgete en la emocionante aventura con las 5...</td>\n",
       "      <td>4188278</td>\n",
       "      <td>1</td>\n",
       "    </tr>\n",
       "    <tr>\n",
       "      <th>2</th>\n",
       "      <td>Sumérgete en el mundo de los superhéroes con e...</td>\n",
       "      <td>4187835</td>\n",
       "      <td>1</td>\n",
       "    </tr>\n",
       "    <tr>\n",
       "      <th>3</th>\n",
       "      <td>Sumérgete en la emocionante aventura de los su...</td>\n",
       "      <td>4187834</td>\n",
       "      <td>1</td>\n",
       "    </tr>\n",
       "    <tr>\n",
       "      <th>4</th>\n",
       "      <td>Sumérgete en un mundo de creatividad y natural...</td>\n",
       "      <td>4187832</td>\n",
       "      <td>1</td>\n",
       "    </tr>\n",
       "  </tbody>\n",
       "</table>\n",
       "</div>"
      ],
      "text/plain": [
       "                               generated_description  product  model\n",
       "0  Sumérgete en la magia del descubrimiento con e...  4188155      1\n",
       "1  Sumérgete en la emocionante aventura con las 5...  4188278      1\n",
       "2  Sumérgete en el mundo de los superhéroes con e...  4187835      1\n",
       "3  Sumérgete en la emocionante aventura de los su...  4187834      1\n",
       "4  Sumérgete en un mundo de creatividad y natural...  4187832      1"
      ]
     },
     "execution_count": 38,
     "metadata": {},
     "output_type": "execute_result"
    }
   ],
   "source": [
    "out.head()"
   ]
  },
  {
   "cell_type": "code",
   "execution_count": 39,
   "id": "139d1811",
   "metadata": {},
   "outputs": [],
   "source": [
    "out.to_csv(\"micro.csv\", index=False)"
   ]
  }
 ],
 "metadata": {
  "kernelspec": {
   "display_name": "Python 3",
   "language": "python",
   "name": "python3"
  },
  "language_info": {
   "codemirror_mode": {
    "name": "ipython",
    "version": 3
   },
   "file_extension": ".py",
   "mimetype": "text/x-python",
   "name": "python",
   "nbconvert_exporter": "python",
   "pygments_lexer": "ipython3",
   "version": "3.12.0"
  }
 },
 "nbformat": 4,
 "nbformat_minor": 5
}
